{
 "cells": [
  {
   "cell_type": "markdown",
   "id": "ba3d79a5",
   "metadata": {},
   "source": [
    "# Survey Analysis Report\n",
    "### Team Ford\n",
    "Samantha Howard, Jyotsna Singh, Ishaan Pathak and Nick Mouaikel"
   ]
  },
  {
   "cell_type": "markdown",
   "id": "2c7e0830",
   "metadata": {},
   "source": [
    "# Sam's Analysis"
   ]
  },
  {
   "cell_type": "markdown",
   "id": "3c232789",
   "metadata": {},
   "source": [
    "## Abstract\n",
    "Short summary about the data and what it tells you about your project. "
   ]
  },
  {
   "cell_type": "markdown",
   "id": "1585bdc5",
   "metadata": {},
   "source": [
    "## Data input\n",
    "In this section include code that reads in the csv file"
   ]
  },
  {
   "cell_type": "code",
   "execution_count": 1,
   "id": "e8756be9",
   "metadata": {},
   "outputs": [],
   "source": [
    "import matplotlib.pyplot as plt\n",
    "import pandas as pd\n",
    "import numpy as np\n",
    "import seaborn as sns"
   ]
  },
  {
   "cell_type": "code",
   "execution_count": 2,
   "id": "ab48408a",
   "metadata": {},
   "outputs": [
    {
     "data": {
      "text/html": [
       "<div>\n",
       "<style scoped>\n",
       "    .dataframe tbody tr th:only-of-type {\n",
       "        vertical-align: middle;\n",
       "    }\n",
       "\n",
       "    .dataframe tbody tr th {\n",
       "        vertical-align: top;\n",
       "    }\n",
       "\n",
       "    .dataframe thead th {\n",
       "        text-align: right;\n",
       "    }\n",
       "</style>\n",
       "<table border=\"1\" class=\"dataframe\">\n",
       "  <thead>\n",
       "    <tr style=\"text-align: right;\">\n",
       "      <th></th>\n",
       "      <th>ARFL</th>\n",
       "      <th>Argonne</th>\n",
       "      <th>Boeing</th>\n",
       "      <th>Delta Dental</th>\n",
       "      <th>Ford</th>\n",
       "      <th>Hope Village</th>\n",
       "      <th>Kellogg's</th>\n",
       "      <th>Neogen</th>\n",
       "      <th>Old Nation</th>\n",
       "      <th>Qside</th>\n",
       "    </tr>\n",
       "  </thead>\n",
       "  <tbody>\n",
       "    <tr>\n",
       "      <th>0</th>\n",
       "      <td>7</td>\n",
       "      <td>4</td>\n",
       "      <td>9</td>\n",
       "      <td>8</td>\n",
       "      <td>3</td>\n",
       "      <td>0</td>\n",
       "      <td>6</td>\n",
       "      <td>2</td>\n",
       "      <td>5</td>\n",
       "      <td>1</td>\n",
       "    </tr>\n",
       "    <tr>\n",
       "      <th>1</th>\n",
       "      <td>0</td>\n",
       "      <td>1</td>\n",
       "      <td>3</td>\n",
       "      <td>2</td>\n",
       "      <td>4</td>\n",
       "      <td>8</td>\n",
       "      <td>6</td>\n",
       "      <td>5</td>\n",
       "      <td>7</td>\n",
       "      <td>9</td>\n",
       "    </tr>\n",
       "    <tr>\n",
       "      <th>2</th>\n",
       "      <td>3</td>\n",
       "      <td>2</td>\n",
       "      <td>1</td>\n",
       "      <td>6</td>\n",
       "      <td>0</td>\n",
       "      <td>8</td>\n",
       "      <td>5</td>\n",
       "      <td>4</td>\n",
       "      <td>7</td>\n",
       "      <td>9</td>\n",
       "    </tr>\n",
       "    <tr>\n",
       "      <th>3</th>\n",
       "      <td>8</td>\n",
       "      <td>7</td>\n",
       "      <td>3</td>\n",
       "      <td>9</td>\n",
       "      <td>4</td>\n",
       "      <td>5</td>\n",
       "      <td>0</td>\n",
       "      <td>6</td>\n",
       "      <td>1</td>\n",
       "      <td>2</td>\n",
       "    </tr>\n",
       "    <tr>\n",
       "      <th>4</th>\n",
       "      <td>0</td>\n",
       "      <td>2</td>\n",
       "      <td>1</td>\n",
       "      <td>8</td>\n",
       "      <td>7</td>\n",
       "      <td>3</td>\n",
       "      <td>9</td>\n",
       "      <td>6</td>\n",
       "      <td>4</td>\n",
       "      <td>5</td>\n",
       "    </tr>\n",
       "  </tbody>\n",
       "</table>\n",
       "</div>"
      ],
      "text/plain": [
       "   ARFL  Argonne  Boeing  Delta Dental  Ford  Hope Village  Kellogg's  Neogen  \\\n",
       "0     7        4       9             8     3             0          6       2   \n",
       "1     0        1       3             2     4             8          6       5   \n",
       "2     3        2       1             6     0             8          5       4   \n",
       "3     8        7       3             9     4             5          0       6   \n",
       "4     0        2       1             8     7             3          9       6   \n",
       "\n",
       "   Old Nation  Qside  \n",
       "0           5      1  \n",
       "1           7      9  \n",
       "2           7      9  \n",
       "3           1      2  \n",
       "4           4      5  "
      ]
     },
     "execution_count": 2,
     "metadata": {},
     "output_type": "execute_result"
    }
   ],
   "source": [
    "dist = pd.read_csv(\"2022_Project_distance_Matrix.csv\")\n",
    "dist.head()"
   ]
  },
  {
   "cell_type": "code",
   "execution_count": 3,
   "id": "cf5500f6",
   "metadata": {},
   "outputs": [],
   "source": [
    "# Team List\n",
    "Teams =[\"ARFL\",\"Argonne\",\"Boeing\",\"Delta Dental\",\"Ford\",\"Hope Village\",\"Kellogg's\",\"Neogen\",\"Old Nation\",\"Qside\"]\n",
    "\n",
    "# Broken up by team\n",
    "#team = dist[dist['team'] == 0]\n",
    "ARFL = dist[dist['ARFL'] == 0]\n",
    "Argonne = dist[dist['Argonne'] == 0]\n",
    "\n",
    "Boeing = dist[dist['Boeing'] == 0]\n",
    "Delta = dist[dist['Delta Dental'] == 0]\n",
    "\n",
    "Ford = dist[dist['Ford'] == 0] #6 members\n",
    "Hope = dist[dist['Hope Village'] == 0]\n",
    "\n",
    "Kellogg = dist[dist[\"Kellogg's\"] == 0]\n",
    "Neogen = dist[dist['Neogen'] == 0]\n",
    "\n",
    "Old = dist[dist['Old Nation'] == 0]\n",
    "Qside = dist[dist['Qside'] == 0] #2 members"
   ]
  },
  {
   "cell_type": "markdown",
   "id": "6f3ed646",
   "metadata": {},
   "source": [
    "## Data Cleaning\n",
    "In this section provide code for converting the raw data into clean and usable data structures (if needed)"
   ]
  },
  {
   "cell_type": "markdown",
   "id": "9facf153",
   "metadata": {},
   "source": [
    "While there is no NA values there is a potental error in the collection of the data. As the team Qside had 2 entries, and Team ford had 6. And these are not the correct number of members for either."
   ]
  },
  {
   "cell_type": "code",
   "execution_count": 4,
   "id": "712a7a12",
   "metadata": {},
   "outputs": [
    {
     "data": {
      "text/plain": [
       "ARFL            0\n",
       "Argonne         0\n",
       "Boeing          0\n",
       "Delta Dental    0\n",
       "Ford            0\n",
       "Hope Village    0\n",
       "Kellogg's       0\n",
       "Neogen          0\n",
       "Old Nation      0\n",
       "Qside           0\n",
       "dtype: int64"
      ]
     },
     "execution_count": 4,
     "metadata": {},
     "output_type": "execute_result"
    }
   ],
   "source": [
    "#no missing entries\n",
    "dist.isna().sum()"
   ]
  },
  {
   "cell_type": "markdown",
   "id": "cb7fdf95",
   "metadata": {},
   "source": [
    "## Data Modeling"
   ]
  },
  {
   "cell_type": "code",
   "execution_count": 5,
   "id": "7703794d",
   "metadata": {},
   "outputs": [
    {
     "data": {
      "text/html": [
       "<div>\n",
       "<style scoped>\n",
       "    .dataframe tbody tr th:only-of-type {\n",
       "        vertical-align: middle;\n",
       "    }\n",
       "\n",
       "    .dataframe tbody tr th {\n",
       "        vertical-align: top;\n",
       "    }\n",
       "\n",
       "    .dataframe thead th {\n",
       "        text-align: right;\n",
       "    }\n",
       "</style>\n",
       "<table border=\"1\" class=\"dataframe\">\n",
       "  <thead>\n",
       "    <tr style=\"text-align: right;\">\n",
       "      <th></th>\n",
       "      <th>ARFL</th>\n",
       "      <th>Argonne</th>\n",
       "      <th>Boeing</th>\n",
       "      <th>Delta Dental</th>\n",
       "      <th>Ford</th>\n",
       "      <th>Hope Village</th>\n",
       "      <th>Kellogg's</th>\n",
       "      <th>Neogen</th>\n",
       "      <th>Old Nation</th>\n",
       "      <th>Qside</th>\n",
       "    </tr>\n",
       "  </thead>\n",
       "  <tbody>\n",
       "    <tr>\n",
       "      <th>ARFL</th>\n",
       "      <td>1.000000</td>\n",
       "      <td>0.316525</td>\n",
       "      <td>0.361881</td>\n",
       "      <td>0.243643</td>\n",
       "      <td>0.061635</td>\n",
       "      <td>-0.577136</td>\n",
       "      <td>-0.211970</td>\n",
       "      <td>-0.017531</td>\n",
       "      <td>-0.474939</td>\n",
       "      <td>-0.494224</td>\n",
       "    </tr>\n",
       "    <tr>\n",
       "      <th>Argonne</th>\n",
       "      <td>0.316525</td>\n",
       "      <td>1.000000</td>\n",
       "      <td>0.483512</td>\n",
       "      <td>0.063318</td>\n",
       "      <td>0.157784</td>\n",
       "      <td>-0.434898</td>\n",
       "      <td>-0.338808</td>\n",
       "      <td>-0.141758</td>\n",
       "      <td>-0.436384</td>\n",
       "      <td>-0.557939</td>\n",
       "    </tr>\n",
       "    <tr>\n",
       "      <th>Boeing</th>\n",
       "      <td>0.361881</td>\n",
       "      <td>0.483512</td>\n",
       "      <td>1.000000</td>\n",
       "      <td>-0.146465</td>\n",
       "      <td>0.183945</td>\n",
       "      <td>-0.707230</td>\n",
       "      <td>-0.101455</td>\n",
       "      <td>0.156961</td>\n",
       "      <td>-0.505099</td>\n",
       "      <td>-0.659948</td>\n",
       "    </tr>\n",
       "    <tr>\n",
       "      <th>Delta Dental</th>\n",
       "      <td>0.243643</td>\n",
       "      <td>0.063318</td>\n",
       "      <td>-0.146465</td>\n",
       "      <td>1.000000</td>\n",
       "      <td>0.042934</td>\n",
       "      <td>-0.128369</td>\n",
       "      <td>-0.424887</td>\n",
       "      <td>-0.205687</td>\n",
       "      <td>-0.154399</td>\n",
       "      <td>-0.202978</td>\n",
       "    </tr>\n",
       "    <tr>\n",
       "      <th>Ford</th>\n",
       "      <td>0.061635</td>\n",
       "      <td>0.157784</td>\n",
       "      <td>0.183945</td>\n",
       "      <td>0.042934</td>\n",
       "      <td>1.000000</td>\n",
       "      <td>-0.410659</td>\n",
       "      <td>-0.120666</td>\n",
       "      <td>0.142023</td>\n",
       "      <td>-0.591787</td>\n",
       "      <td>-0.548476</td>\n",
       "    </tr>\n",
       "    <tr>\n",
       "      <th>Hope Village</th>\n",
       "      <td>-0.577136</td>\n",
       "      <td>-0.434898</td>\n",
       "      <td>-0.707230</td>\n",
       "      <td>-0.128369</td>\n",
       "      <td>-0.410659</td>\n",
       "      <td>1.000000</td>\n",
       "      <td>-0.041932</td>\n",
       "      <td>-0.293983</td>\n",
       "      <td>0.681481</td>\n",
       "      <td>0.728218</td>\n",
       "    </tr>\n",
       "    <tr>\n",
       "      <th>Kellogg's</th>\n",
       "      <td>-0.211970</td>\n",
       "      <td>-0.338808</td>\n",
       "      <td>-0.101455</td>\n",
       "      <td>-0.424887</td>\n",
       "      <td>-0.120666</td>\n",
       "      <td>-0.041932</td>\n",
       "      <td>1.000000</td>\n",
       "      <td>0.045035</td>\n",
       "      <td>-0.052038</td>\n",
       "      <td>0.211330</td>\n",
       "    </tr>\n",
       "    <tr>\n",
       "      <th>Neogen</th>\n",
       "      <td>-0.017531</td>\n",
       "      <td>-0.141758</td>\n",
       "      <td>0.156961</td>\n",
       "      <td>-0.205687</td>\n",
       "      <td>0.142023</td>\n",
       "      <td>-0.293983</td>\n",
       "      <td>0.045035</td>\n",
       "      <td>1.000000</td>\n",
       "      <td>-0.201630</td>\n",
       "      <td>-0.261360</td>\n",
       "    </tr>\n",
       "    <tr>\n",
       "      <th>Old Nation</th>\n",
       "      <td>-0.474939</td>\n",
       "      <td>-0.436384</td>\n",
       "      <td>-0.505099</td>\n",
       "      <td>-0.154399</td>\n",
       "      <td>-0.591787</td>\n",
       "      <td>0.681481</td>\n",
       "      <td>-0.052038</td>\n",
       "      <td>-0.201630</td>\n",
       "      <td>1.000000</td>\n",
       "      <td>0.635497</td>\n",
       "    </tr>\n",
       "    <tr>\n",
       "      <th>Qside</th>\n",
       "      <td>-0.494224</td>\n",
       "      <td>-0.557939</td>\n",
       "      <td>-0.659948</td>\n",
       "      <td>-0.202978</td>\n",
       "      <td>-0.548476</td>\n",
       "      <td>0.728218</td>\n",
       "      <td>0.211330</td>\n",
       "      <td>-0.261360</td>\n",
       "      <td>0.635497</td>\n",
       "      <td>1.000000</td>\n",
       "    </tr>\n",
       "  </tbody>\n",
       "</table>\n",
       "</div>"
      ],
      "text/plain": [
       "                  ARFL   Argonne    Boeing  Delta Dental      Ford  \\\n",
       "ARFL          1.000000  0.316525  0.361881      0.243643  0.061635   \n",
       "Argonne       0.316525  1.000000  0.483512      0.063318  0.157784   \n",
       "Boeing        0.361881  0.483512  1.000000     -0.146465  0.183945   \n",
       "Delta Dental  0.243643  0.063318 -0.146465      1.000000  0.042934   \n",
       "Ford          0.061635  0.157784  0.183945      0.042934  1.000000   \n",
       "Hope Village -0.577136 -0.434898 -0.707230     -0.128369 -0.410659   \n",
       "Kellogg's    -0.211970 -0.338808 -0.101455     -0.424887 -0.120666   \n",
       "Neogen       -0.017531 -0.141758  0.156961     -0.205687  0.142023   \n",
       "Old Nation   -0.474939 -0.436384 -0.505099     -0.154399 -0.591787   \n",
       "Qside        -0.494224 -0.557939 -0.659948     -0.202978 -0.548476   \n",
       "\n",
       "              Hope Village  Kellogg's    Neogen  Old Nation     Qside  \n",
       "ARFL             -0.577136  -0.211970 -0.017531   -0.474939 -0.494224  \n",
       "Argonne          -0.434898  -0.338808 -0.141758   -0.436384 -0.557939  \n",
       "Boeing           -0.707230  -0.101455  0.156961   -0.505099 -0.659948  \n",
       "Delta Dental     -0.128369  -0.424887 -0.205687   -0.154399 -0.202978  \n",
       "Ford             -0.410659  -0.120666  0.142023   -0.591787 -0.548476  \n",
       "Hope Village      1.000000  -0.041932 -0.293983    0.681481  0.728218  \n",
       "Kellogg's        -0.041932   1.000000  0.045035   -0.052038  0.211330  \n",
       "Neogen           -0.293983   0.045035  1.000000   -0.201630 -0.261360  \n",
       "Old Nation        0.681481  -0.052038 -0.201630    1.000000  0.635497  \n",
       "Qside             0.728218   0.211330 -0.261360    0.635497  1.000000  "
      ]
     },
     "execution_count": 5,
     "metadata": {},
     "output_type": "execute_result"
    }
   ],
   "source": [
    "corr = dist.corr()\n",
    "corr"
   ]
  },
  {
   "cell_type": "code",
   "execution_count": 6,
   "id": "b3c12dc9",
   "metadata": {},
   "outputs": [],
   "source": [
    "# bad, should change the groupby. Many \"NA\" values\n",
    "summary = dist.groupby(Teams).size().unstack()\n",
    "\n",
    "from scipy.spatial.distance import squareform\n",
    "from scipy.spatial.distance import pdist\n",
    "\n",
    "pairwise = pd.DataFrame(\n",
    "    squareform(pdist(summary)),\n",
    "    columns = summary.index,\n",
    "    index = summary.index)\n",
    "#pairwise"
   ]
  },
  {
   "cell_type": "markdown",
   "id": "0278dd21",
   "metadata": {},
   "source": [
    "## Data Visualization\n",
    "\n",
    "This section make some graphs visualizing your results.  A distance matrix and/or network graph may be cool.  Think though the best way to show what you learned."
   ]
  },
  {
   "cell_type": "markdown",
   "id": "b573f7fd",
   "metadata": {},
   "source": [
    "Here using Seaborn, it isn't isn't a distance matrix but I thought the visualization could be intresting. I was courious if it could just give a quick glance at the general likness of the projects to another. I would not recommend this model.<br>\n",
    "The easist way to understand this visulization is the paler the color, the more similar the two groups are. The Darker the blue/red is is the more differnet they are."
   ]
  },
  {
   "cell_type": "code",
   "execution_count": 7,
   "id": "7e3b414c",
   "metadata": {},
   "outputs": [
    {
     "data": {
      "text/plain": [
       "<AxesSubplot:>"
      ]
     },
     "execution_count": 7,
     "metadata": {},
     "output_type": "execute_result"
    },
    {
     "data": {
      "image/png": "[encoded data removed]",
      "text/plain": [
       "<Figure size 432x288 with 2 Axes>"
      ]
     },
     "metadata": {
      "needs_background": "light"
     },
     "output_type": "display_data"
    }
   ],
   "source": [
    "mask = np.triu(np.ones_like(corr, dtype=bool))\n",
    "cmap = sns.diverging_palette(230, 20, as_cmap=True)\n",
    "sns.heatmap(corr, mask=mask, cmap=cmap, vmax=.3, center=0,\n",
    "            square=True, linewidths=.5, cbar_kws={\"shrink\": .5})\n",
    "#closer to white is more similar to each other. Stronger color is less similar."
   ]
  },
  {
   "cell_type": "markdown",
   "id": "b9484c6c",
   "metadata": {},
   "source": [
    "## Conclusion\n",
    "\n",
    "This should be similar to the abstract but with more details. What can you conclude about your project from this data?"
   ]
  },
  {
   "cell_type": "markdown",
   "id": "16db2083",
   "metadata": {},
   "source": [
    "## Sources\n",
    "[Pairwise Distance Matrix Tutoral](https://drawingfromdata.com/pandas/clustering/making-a-pairwise-distance-matrix-in-pandas.html)<br>\n",
    "[Seaborn Correlation](https://seaborn.pydata.org/examples/many_pairwise_correlations.html)"
   ]
  },
  {
   "cell_type": "markdown",
   "id": "5d03257a",
   "metadata": {},
   "source": [
    "# Jyotsna's Analysis"
   ]
  },
  {
   "cell_type": "code",
   "execution_count": 8,
   "id": "18bdcf45",
   "metadata": {},
   "outputs": [],
   "source": [
    "data = pd.read_csv(\"2022_Project_distance_Matrix.csv\")"
   ]
  },
  {
   "cell_type": "markdown",
   "id": "f7a6b378",
   "metadata": {},
   "source": [
    "## Disagrement \n",
    "\n",
    "The heatmap below shows how much the people on a team agreed or disagreed on which projects were similar to their own. The darker colors mean higher disagreemnent and lighter colors mean lower disagreemnet."
   ]
  },
  {
   "cell_type": "code",
   "execution_count": 9,
   "id": "0b9f8ce8",
   "metadata": {},
   "outputs": [
    {
     "data": {
      "image/png": "[encoded data removed]",
      "text/plain": [
       "<Figure size 864x720 with 2 Axes>"
      ]
     },
     "metadata": {
      "needs_background": "light"
     },
     "output_type": "display_data"
    }
   ],
   "source": [
    "temp = {}\n",
    "\n",
    "for a in data.columns.values:\n",
    "    df = data[data[a] == 0]\n",
    "    #temp[a] = np.array(df.sum(0)/df.shape[0])\n",
    "    temp[a] = df.std(axis=0)\n",
    "    \n",
    "prob_matrix = pd.DataFrame(temp).T.fillna(0)\n",
    "\n",
    "plt.figure(figsize=(12,10))\n",
    "sns.heatmap(prob_matrix, cmap=\"Blues\")\n",
    "plt.title(\"DISAGREEMENT HEATMAP\", fontsize = 20);\n",
    "plt.xticks(fontsize=12);\n",
    "plt.yticks(fontsize=12, rotation=360);"
   ]
  },
  {
   "cell_type": "markdown",
   "id": "9f5ca20f",
   "metadata": {},
   "source": [
    "# Ishaan's Analysis"
   ]
  },
  {
   "cell_type": "code",
   "execution_count": 10,
   "id": "c8b8b9bb",
   "metadata": {},
   "outputs": [],
   "source": [
    "import numpy as np\n",
    "import scipy as sc\n",
    "from scipy.spatial import distance_matrix\n",
    "import pandas as pd\n",
    "import seaborn as sns\n",
    "import matplotlib as mpl\n",
    "import matplotlib.pyplot as plt\n",
    "from scipy.spatial.distance import pdist\n",
    "from scipy.spatial.distance import squareform"
   ]
  },
  {
   "cell_type": "code",
   "execution_count": 11,
   "id": "a5b8308b",
   "metadata": {},
   "outputs": [
    {
     "data": {
      "text/html": [
       "<div>\n",
       "<style scoped>\n",
       "    .dataframe tbody tr th:only-of-type {\n",
       "        vertical-align: middle;\n",
       "    }\n",
       "\n",
       "    .dataframe tbody tr th {\n",
       "        vertical-align: top;\n",
       "    }\n",
       "\n",
       "    .dataframe thead th {\n",
       "        text-align: right;\n",
       "    }\n",
       "</style>\n",
       "<table border=\"1\" class=\"dataframe\">\n",
       "  <thead>\n",
       "    <tr style=\"text-align: right;\">\n",
       "      <th></th>\n",
       "      <th>ARFL</th>\n",
       "      <th>Argonne</th>\n",
       "      <th>Boeing</th>\n",
       "      <th>Delta Dental</th>\n",
       "      <th>Ford</th>\n",
       "      <th>Hope Village</th>\n",
       "      <th>Kellogg's</th>\n",
       "      <th>Neogen</th>\n",
       "      <th>Old Nation</th>\n",
       "      <th>Qside</th>\n",
       "    </tr>\n",
       "  </thead>\n",
       "  <tbody>\n",
       "    <tr>\n",
       "      <th>1</th>\n",
       "      <td>0</td>\n",
       "      <td>1</td>\n",
       "      <td>3</td>\n",
       "      <td>2</td>\n",
       "      <td>4</td>\n",
       "      <td>8</td>\n",
       "      <td>6</td>\n",
       "      <td>5</td>\n",
       "      <td>7</td>\n",
       "      <td>9</td>\n",
       "    </tr>\n",
       "    <tr>\n",
       "      <th>4</th>\n",
       "      <td>0</td>\n",
       "      <td>2</td>\n",
       "      <td>1</td>\n",
       "      <td>8</td>\n",
       "      <td>7</td>\n",
       "      <td>3</td>\n",
       "      <td>9</td>\n",
       "      <td>6</td>\n",
       "      <td>4</td>\n",
       "      <td>5</td>\n",
       "    </tr>\n",
       "    <tr>\n",
       "      <th>14</th>\n",
       "      <td>0</td>\n",
       "      <td>4</td>\n",
       "      <td>1</td>\n",
       "      <td>7</td>\n",
       "      <td>2</td>\n",
       "      <td>8</td>\n",
       "      <td>5</td>\n",
       "      <td>3</td>\n",
       "      <td>6</td>\n",
       "      <td>9</td>\n",
       "    </tr>\n",
       "    <tr>\n",
       "      <th>18</th>\n",
       "      <td>0</td>\n",
       "      <td>5</td>\n",
       "      <td>9</td>\n",
       "      <td>2</td>\n",
       "      <td>1</td>\n",
       "      <td>3</td>\n",
       "      <td>8</td>\n",
       "      <td>4</td>\n",
       "      <td>7</td>\n",
       "      <td>6</td>\n",
       "    </tr>\n",
       "    <tr>\n",
       "      <th>22</th>\n",
       "      <td>0</td>\n",
       "      <td>3</td>\n",
       "      <td>1</td>\n",
       "      <td>7</td>\n",
       "      <td>6</td>\n",
       "      <td>9</td>\n",
       "      <td>5</td>\n",
       "      <td>2</td>\n",
       "      <td>4</td>\n",
       "      <td>8</td>\n",
       "    </tr>\n",
       "  </tbody>\n",
       "</table>\n",
       "</div>"
      ],
      "text/plain": [
       "    ARFL  Argonne  Boeing  Delta Dental  Ford  Hope Village  Kellogg's  \\\n",
       "1      0        1       3             2     4             8          6   \n",
       "4      0        2       1             8     7             3          9   \n",
       "14     0        4       1             7     2             8          5   \n",
       "18     0        5       9             2     1             3          8   \n",
       "22     0        3       1             7     6             9          5   \n",
       "\n",
       "    Neogen  Old Nation  Qside  \n",
       "1        5           7      9  \n",
       "4        6           4      5  \n",
       "14       3           6      9  \n",
       "18       4           7      6  \n",
       "22       2           4      8  "
      ]
     },
     "execution_count": 11,
     "metadata": {},
     "output_type": "execute_result"
    }
   ],
   "source": [
    "data = pd.read_csv('2022_Project_distance_Matrix.csv')\n",
    "ARFL = data[data['ARFL'] == 0]\n",
    "ARFL"
   ]
  },
  {
   "cell_type": "code",
   "execution_count": 12,
   "id": "e22dd80a",
   "metadata": {},
   "outputs": [],
   "source": [
    "team_wise_data = pd.DataFrame(data=[], columns=data.columns)\n",
    "for i in data.columns:\n",
    "    temp_team = data[data[i] == 0]\n",
    "    team_wise_data = pd.concat([team_wise_data, temp_team])"
   ]
  },
  {
   "cell_type": "code",
   "execution_count": 13,
   "id": "198d04ec",
   "metadata": {},
   "outputs": [
    {
     "data": {
      "text/html": [
       "<div>\n",
       "<style scoped>\n",
       "    .dataframe tbody tr th:only-of-type {\n",
       "        vertical-align: middle;\n",
       "    }\n",
       "\n",
       "    .dataframe tbody tr th {\n",
       "        vertical-align: top;\n",
       "    }\n",
       "\n",
       "    .dataframe thead th {\n",
       "        text-align: right;\n",
       "    }\n",
       "</style>\n",
       "<table border=\"1\" class=\"dataframe\">\n",
       "  <thead>\n",
       "    <tr style=\"text-align: right;\">\n",
       "      <th></th>\n",
       "      <th>ARFL</th>\n",
       "      <th>Argonne</th>\n",
       "      <th>Boeing</th>\n",
       "      <th>Delta Dental</th>\n",
       "      <th>Ford</th>\n",
       "      <th>Hope Village</th>\n",
       "      <th>Kellogg's</th>\n",
       "      <th>Neogen</th>\n",
       "      <th>Old Nation</th>\n",
       "      <th>Qside</th>\n",
       "    </tr>\n",
       "  </thead>\n",
       "  <tbody>\n",
       "    <tr>\n",
       "      <th>1</th>\n",
       "      <td>0</td>\n",
       "      <td>1</td>\n",
       "      <td>3</td>\n",
       "      <td>2</td>\n",
       "      <td>4</td>\n",
       "      <td>8</td>\n",
       "      <td>6</td>\n",
       "      <td>5</td>\n",
       "      <td>7</td>\n",
       "      <td>9</td>\n",
       "    </tr>\n",
       "    <tr>\n",
       "      <th>4</th>\n",
       "      <td>0</td>\n",
       "      <td>2</td>\n",
       "      <td>1</td>\n",
       "      <td>8</td>\n",
       "      <td>7</td>\n",
       "      <td>3</td>\n",
       "      <td>9</td>\n",
       "      <td>6</td>\n",
       "      <td>4</td>\n",
       "      <td>5</td>\n",
       "    </tr>\n",
       "    <tr>\n",
       "      <th>14</th>\n",
       "      <td>0</td>\n",
       "      <td>4</td>\n",
       "      <td>1</td>\n",
       "      <td>7</td>\n",
       "      <td>2</td>\n",
       "      <td>8</td>\n",
       "      <td>5</td>\n",
       "      <td>3</td>\n",
       "      <td>6</td>\n",
       "      <td>9</td>\n",
       "    </tr>\n",
       "    <tr>\n",
       "      <th>18</th>\n",
       "      <td>0</td>\n",
       "      <td>5</td>\n",
       "      <td>9</td>\n",
       "      <td>2</td>\n",
       "      <td>1</td>\n",
       "      <td>3</td>\n",
       "      <td>8</td>\n",
       "      <td>4</td>\n",
       "      <td>7</td>\n",
       "      <td>6</td>\n",
       "    </tr>\n",
       "    <tr>\n",
       "      <th>22</th>\n",
       "      <td>0</td>\n",
       "      <td>3</td>\n",
       "      <td>1</td>\n",
       "      <td>7</td>\n",
       "      <td>6</td>\n",
       "      <td>9</td>\n",
       "      <td>5</td>\n",
       "      <td>2</td>\n",
       "      <td>4</td>\n",
       "      <td>8</td>\n",
       "    </tr>\n",
       "  </tbody>\n",
       "</table>\n",
       "</div>"
      ],
      "text/plain": [
       "   ARFL Argonne Boeing Delta Dental Ford Hope Village Kellogg's Neogen  \\\n",
       "1     0       1      3            2    4            8         6      5   \n",
       "4     0       2      1            8    7            3         9      6   \n",
       "14    0       4      1            7    2            8         5      3   \n",
       "18    0       5      9            2    1            3         8      4   \n",
       "22    0       3      1            7    6            9         5      2   \n",
       "\n",
       "   Old Nation Qside  \n",
       "1           7     9  \n",
       "4           4     5  \n",
       "14          6     9  \n",
       "18          7     6  \n",
       "22          4     8  "
      ]
     },
     "execution_count": 13,
     "metadata": {},
     "output_type": "execute_result"
    }
   ],
   "source": [
    "team_wise_data.head()"
   ]
  },
  {
   "cell_type": "code",
   "execution_count": 14,
   "id": "84973391",
   "metadata": {},
   "outputs": [
    {
     "data": {
      "text/plain": [
       "<AxesSubplot:>"
      ]
     },
     "execution_count": 14,
     "metadata": {},
     "output_type": "execute_result"
    },
    {
     "data": {
      "image/png": "[encoded data removed]",
      "text/plain": [
       "<Figure size 1080x1080 with 2 Axes>"
      ]
     },
     "metadata": {
      "needs_background": "light"
     },
     "output_type": "display_data"
    }
   ],
   "source": [
    "pairwise_top = pd.DataFrame(squareform(pdist(team_wise_data, metric='cosine')),\n",
    "                            columns = team_wise_data.index,\n",
    "                            index = team_wise_data.index)\n",
    "\n",
    "plt.figure(figsize=(15,15))\n",
    "sns.heatmap(pairwise_top, cmap='OrRd', linewidth=1)"
   ]
  },
  {
   "cell_type": "markdown",
   "id": "04246fdf",
   "metadata": {},
   "source": [
    "# Nick's Analysis"
   ]
  },
  {
   "cell_type": "code",
   "execution_count": 15,
   "id": "17475904",
   "metadata": {},
   "outputs": [
    {
     "ename": "ModuleNotFoundError",
     "evalue": "No module named 'sympy'",
     "output_type": "error",
     "traceback": [
      "\u001b[0;31m---------------------------------------------------------------------------\u001b[0m",
      "\u001b[0;31mModuleNotFoundError\u001b[0m                       Traceback (most recent call last)",
      "\u001b[0;32m/var/folders/9g/znyxmls53dg0v7lp9gd37nc80000gn/T/ipykernel_31922/3566202742.py\u001b[0m in \u001b[0;36m<module>\u001b[0;34m\u001b[0m\n\u001b[1;32m      2\u001b[0m \u001b[0;32mimport\u001b[0m \u001b[0mnumpy\u001b[0m \u001b[0;32mas\u001b[0m \u001b[0mnp\u001b[0m\u001b[0;34m\u001b[0m\u001b[0;34m\u001b[0m\u001b[0m\n\u001b[1;32m      3\u001b[0m \u001b[0;32mfrom\u001b[0m \u001b[0mscipy\u001b[0m\u001b[0;34m.\u001b[0m\u001b[0mspatial\u001b[0m \u001b[0;32mimport\u001b[0m \u001b[0mdistance_matrix\u001b[0m\u001b[0;34m\u001b[0m\u001b[0;34m\u001b[0m\u001b[0m\n\u001b[0;32m----> 4\u001b[0;31m \u001b[0;32mimport\u001b[0m \u001b[0msympy\u001b[0m \u001b[0;32mas\u001b[0m \u001b[0msym\u001b[0m\u001b[0;34m\u001b[0m\u001b[0;34m\u001b[0m\u001b[0m\n\u001b[0m\u001b[1;32m      5\u001b[0m \u001b[0;32mimport\u001b[0m \u001b[0mseaborn\u001b[0m \u001b[0;32mas\u001b[0m \u001b[0msns\u001b[0m\u001b[0;34m\u001b[0m\u001b[0;34m\u001b[0m\u001b[0m\n\u001b[1;32m      6\u001b[0m \u001b[0;32mimport\u001b[0m \u001b[0mmatplotlib\u001b[0m\u001b[0;34m.\u001b[0m\u001b[0mpyplot\u001b[0m \u001b[0;32mas\u001b[0m \u001b[0mplt\u001b[0m\u001b[0;34m\u001b[0m\u001b[0;34m\u001b[0m\u001b[0m\n",
      "\u001b[0;31mModuleNotFoundError\u001b[0m: No module named 'sympy'"
     ]
    }
   ],
   "source": [
    "import pandas as pd \n",
    "import numpy as np\n",
    "from scipy.spatial import distance_matrix\n",
    "import sympy as sym\n",
    "import seaborn as sns\n",
    "import matplotlib.pyplot as plt"
   ]
  },
  {
   "cell_type": "code",
   "execution_count": null,
   "id": "e0788733",
   "metadata": {},
   "outputs": [],
   "source": [
    "data = pd.read_csv('2022_Project_distance_Matrix.csv',header='infer')\n",
    "data.head()"
   ]
  },
  {
   "cell_type": "code",
   "execution_count": null,
   "id": "dcca730f",
   "metadata": {},
   "outputs": [],
   "source": [
    "dist_mat = distance_matrix(data.T,data.T,p=2)\n",
    "fig, ax = plt.subplots(figsize = (15,15))\n",
    "ax = sns.heatmap(dist_mat,annot=True)"
   ]
  },
  {
   "cell_type": "code",
   "execution_count": null,
   "id": "07c3beec",
   "metadata": {},
   "outputs": [],
   "source": [
    "np.dot(data.T,data)"
   ]
  }
 ],
 "metadata": {
  "kernelspec": {
   "display_name": "Python 3 (ipykernel)",
   "language": "python",
   "name": "python3"
  },
  "language_info": {
   "codemirror_mode": {
    "name": "ipython",
    "version": 3
   },
   "file_extension": ".py",
   "mimetype": "text/x-python",
   "name": "python",
   "nbconvert_exporter": "python",
   "pygments_lexer": "ipython3",
   "version": "3.9.7"
  }
 },
 "nbformat": 4,
 "nbformat_minor": 5
}
