{
 "cells": [
  {
   "cell_type": "markdown",
   "id": "ba3d79a5",
   "metadata": {},
   "source": [
    "# Report Title\n",
    "### Team Name"
   ]
  },
  {
   "cell_type": "markdown",
   "id": "3c232789",
   "metadata": {},
   "source": [
    "## Abstract\n",
    "Short summary about the data and what it tells you about your project. "
   ]
  },
  {
   "cell_type": "markdown",
   "id": "1585bdc5",
   "metadata": {},
   "source": [
    "## Data input\n",
    "In this section include code that reads in the csv file"
   ]
  },
  {
   "cell_type": "markdown",
   "id": "6f3ed646",
   "metadata": {},
   "source": [
    "## Data Cleaning\n",
    "In this section provide code for converting the raw data into clean and usable data structures (if needed)"
   ]
  },
  {
   "cell_type": "markdown",
   "id": "cb7fdf95",
   "metadata": {},
   "source": [
    "## Data Modeling\n",
    "\n",
    "This section that builds a model.  This doesn't have to be all that advanced. You should probably start with some simple statistical models such as an average distance matrix."
   ]
  },
  {
   "cell_type": "markdown",
   "id": "0278dd21",
   "metadata": {},
   "source": [
    "## Data Visualization\n",
    "\n",
    "This section make some graphs visualizing your results.  A distance matrix and/or network graph may be cool.  Think though the best way to show what you learned."
   ]
  },
  {
   "cell_type": "markdown",
   "id": "b9484c6c",
   "metadata": {},
   "source": [
    "## Conclusion\n",
    "\n",
    "This should be similar to the abstract but with more details. What can you conclude about your project from this data?"
   ]
  }
 ],
 "metadata": {
  "kernelspec": {
   "display_name": "Python 3",
   "language": "python",
   "name": "python3"
  },
  "language_info": {
   "codemirror_mode": {
    "name": "ipython",
    "version": 3
   },
   "file_extension": ".py",
   "mimetype": "text/x-python",
   "name": "python",
   "nbconvert_exporter": "python",
   "pygments_lexer": "ipython3",
   "version": "3.8.8"
  }
 },
 "nbformat": 4,
 "nbformat_minor": 5
}
