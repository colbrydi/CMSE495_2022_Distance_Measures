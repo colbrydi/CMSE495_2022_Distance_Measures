{
 "cells": [
  {
   "cell_type": "markdown",
   "id": "ba3d79a5",
   "metadata": {},
   "source": [
    "# Hope Village Distance Matrix Report\n",
    "### Hope Village"
   ]
  },
  {
   "cell_type": "markdown",
   "id": "faff90e2",
   "metadata": {},
   "source": [
    "[![Open in Colab](https://colab.research.google.com/assets/colab-badge.svg)](https://colab.research.google.com/drive/1CRDVRt5MIW2yBJxQ7QN3kHzzNqHlDQgs)"
   ]
  },
  {
   "cell_type": "markdown",
   "id": "3c232789",
   "metadata": {},
   "source": [
    "## Abstract\n",
    "The data being analyzed in this notebook consists of similarity scores submitted by each individual member of each group in the MSU CMSE 495 capstone course. The scores correspond to how similar the projects of other groups are to one's own, with 1 being the most similar and 9 being the least similar. This data will tell us which groups could potentially help each other and provide support due to similar themes and objectives within the projects."
   ]
  },
  {
   "cell_type": "markdown",
   "id": "1585bdc5",
   "metadata": {},
   "source": [
    "## Data input\n",
    "In this section include code that reads in the csv file"
   ]
  },
  {
   "cell_type": "code",
   "execution_count": 1,
   "id": "2f459121",
   "metadata": {},
   "outputs": [],
   "source": [
    "import pandas as pd\n",
    "import numpy as np\n",
    "# csv file url from google drive\n",
    "# url = 'https://drive.google.com/file/d/1qB2ZNQEMEN09qO6Si5sO9xzqeRV42Q9y/view?usp=sharing'\n",
    "# url = 'https://drive.google.com/uc?id=' + url.split('/')[-2]\n",
    "# df = pd.read_csv(url)\n",
    "\n",
    "# csv file url from github\n",
    "# url = 'https://raw.githubusercontent.com/colbrydi/CMSE495_2022_Distance_Measures/main/2022_Project_distance_Matrix.csv'\n",
    "# df = pd.read_csv(url)\n",
    "\n",
    "# directly from csv file\n",
    "df = pd.read_csv('2022_Project_distance_Matrix.csv')"
   ]
  },
  {
   "cell_type": "markdown",
   "id": "6f3ed646",
   "metadata": {},
   "source": [
    "## Data Cleaning\n",
    "In this section provide code for converting the raw data into clean and usable data structures (dictionary)."
   ]
  },
  {
   "cell_type": "code",
   "execution_count": 2,
   "id": "aa8240b5",
   "metadata": {},
   "outputs": [],
   "source": [
    "groups = list(df.columns.values)\n",
    "group_dic = {} # set up a dictionary to store total distance from the data\n",
    "group_mebers = {} # a dictionary to store number of members for each group\n",
    "for i in range(len(df)):\n",
    "    for g in groups:\n",
    "        if df[g][i] == 0:\n",
    "            if g in group_dic.keys():\n",
    "                group_dic[g] = group_dic[g]+df.iloc[i]\n",
    "                group_mebers[g] += 1\n",
    "            else:\n",
    "                group_dic[g] = df.iloc[i]\n",
    "                group_mebers[g] = 1"
   ]
  },
  {
   "cell_type": "code",
   "execution_count": 8,
   "id": "27120d60",
   "metadata": {},
   "outputs": [
    {
     "data": {
      "text/plain": [
       "{'Hope Village': ARFL            31\n",
       " Argonne         27\n",
       " Boeing          36\n",
       " Delta Dental    32\n",
       " Ford            36\n",
       " Hope Village     0\n",
       " Kellogg's       23\n",
       " Neogen          22\n",
       " Old Nation      10\n",
       " Qside            8\n",
       " dtype: int64,\n",
       " 'ARFL': ARFL             0\n",
       " Argonne         15\n",
       " Boeing          15\n",
       " Delta Dental    26\n",
       " Ford            20\n",
       " Hope Village    31\n",
       " Kellogg's       33\n",
       " Neogen          20\n",
       " Old Nation      28\n",
       " Qside           37\n",
       " dtype: int64,\n",
       " 'Ford': ARFL            15\n",
       " Argonne         15\n",
       " Boeing          17\n",
       " Delta Dental    34\n",
       " Ford             0\n",
       " Hope Village    46\n",
       " Kellogg's       37\n",
       " Neogen          23\n",
       " Old Nation      41\n",
       " Qside           42\n",
       " dtype: int64,\n",
       " \"Kellogg's\": ARFL            13\n",
       " Argonne         17\n",
       " Boeing          13\n",
       " Delta Dental    25\n",
       " Ford            21\n",
       " Hope Village    16\n",
       " Kellogg's        0\n",
       " Neogen          14\n",
       " Old Nation      12\n",
       " Qside            4\n",
       " dtype: int64,\n",
       " 'Boeing': ARFL            16\n",
       " Argonne         13\n",
       " Boeing           0\n",
       " Delta Dental    31\n",
       " Ford            23\n",
       " Hope Village    40\n",
       " Kellogg's       28\n",
       " Neogen          13\n",
       " Old Nation      29\n",
       " Qside           32\n",
       " dtype: int64,\n",
       " 'Delta Dental': ARFL             5\n",
       " Argonne         22\n",
       " Boeing          18\n",
       " Delta Dental     0\n",
       " Ford            20\n",
       " Hope Village    16\n",
       " Kellogg's       22\n",
       " Neogen          12\n",
       " Old Nation       9\n",
       " Qside           11\n",
       " dtype: int64,\n",
       " 'Qside': ARFL             7\n",
       " Argonne          7\n",
       " Boeing          12\n",
       " Delta Dental    14\n",
       " Ford            16\n",
       " Hope Village     3\n",
       " Kellogg's       12\n",
       " Neogen          16\n",
       " Old Nation       3\n",
       " Qside            0\n",
       " dtype: int64,\n",
       " 'Old Nation': ARFL            24\n",
       " Argonne         21\n",
       " Boeing          30\n",
       " Delta Dental    25\n",
       " Ford            25\n",
       " Hope Village     5\n",
       " Kellogg's       30\n",
       " Neogen          13\n",
       " Old Nation       0\n",
       " Qside            7\n",
       " dtype: int64,\n",
       " 'Neogen': ARFL            11\n",
       " Argonne         12\n",
       " Boeing          10\n",
       " Delta Dental    21\n",
       " Ford            17\n",
       " Hope Village    16\n",
       " Kellogg's       22\n",
       " Neogen           0\n",
       " Old Nation      11\n",
       " Qside           15\n",
       " dtype: int64,\n",
       " 'Argonne': ARFL             8\n",
       " Argonne          0\n",
       " Boeing           5\n",
       " Delta Dental    10\n",
       " Ford            20\n",
       " Hope Village    16\n",
       " Kellogg's       24\n",
       " Neogen          18\n",
       " Old Nation      15\n",
       " Qside           19\n",
       " dtype: int64}"
      ]
     },
     "execution_count": 8,
     "metadata": {},
     "output_type": "execute_result"
    }
   ],
   "source": [
    "group_dic"
   ]
  },
  {
   "cell_type": "markdown",
   "id": "cb7fdf95",
   "metadata": {},
   "source": [
    "## Data Modeling\n",
    "\n",
    "This section that builds a model.  This doesn't have to be all that advanced. You should probably start with some simple statistical models such as an average distance matrix."
   ]
  },
  {
   "cell_type": "code",
   "execution_count": 3,
   "id": "e8bdee40",
   "metadata": {},
   "outputs": [
    {
     "name": "stdout",
     "output_type": "stream",
     "text": [
      "Based on the csv file, we can find out the number of members in each group.\n"
     ]
    },
    {
     "data": {
      "text/plain": [
       "{'Hope Village': 5,\n",
       " 'ARFL': 5,\n",
       " 'Ford': 6,\n",
       " \"Kellogg's\": 3,\n",
       " 'Boeing': 5,\n",
       " 'Delta Dental': 3,\n",
       " 'Qside': 2,\n",
       " 'Old Nation': 4,\n",
       " 'Neogen': 3,\n",
       " 'Argonne': 3}"
      ]
     },
     "execution_count": 3,
     "metadata": {},
     "output_type": "execute_result"
    }
   ],
   "source": [
    "print('Based on the csv file, we can find out the number of members in each group.')\n",
    "group_mebers"
   ]
  },
  {
   "cell_type": "code",
   "execution_count": 4,
   "id": "8639c05f",
   "metadata": {},
   "outputs": [
    {
     "data": {
      "text/html": [
       "<div>\n",
       "<style scoped>\n",
       "    .dataframe tbody tr th:only-of-type {\n",
       "        vertical-align: middle;\n",
       "    }\n",
       "\n",
       "    .dataframe tbody tr th {\n",
       "        vertical-align: top;\n",
       "    }\n",
       "\n",
       "    .dataframe thead th {\n",
       "        text-align: right;\n",
       "    }\n",
       "</style>\n",
       "<table border=\"1\" class=\"dataframe\">\n",
       "  <thead>\n",
       "    <tr style=\"text-align: right;\">\n",
       "      <th></th>\n",
       "      <th>ARFL</th>\n",
       "      <th>Argonne</th>\n",
       "      <th>Boeing</th>\n",
       "      <th>Delta Dental</th>\n",
       "      <th>Ford</th>\n",
       "      <th>Hope Village</th>\n",
       "      <th>Kellogg's</th>\n",
       "      <th>Neogen</th>\n",
       "      <th>Old Nation</th>\n",
       "      <th>Qside</th>\n",
       "    </tr>\n",
       "  </thead>\n",
       "  <tbody>\n",
       "    <tr>\n",
       "      <th>ARFL</th>\n",
       "      <td>0.00</td>\n",
       "      <td>3.00</td>\n",
       "      <td>3.00</td>\n",
       "      <td>5.20</td>\n",
       "      <td>4.00</td>\n",
       "      <td>6.20</td>\n",
       "      <td>6.60</td>\n",
       "      <td>4.00</td>\n",
       "      <td>5.60</td>\n",
       "      <td>7.40</td>\n",
       "    </tr>\n",
       "    <tr>\n",
       "      <th>Argonne</th>\n",
       "      <td>2.67</td>\n",
       "      <td>0.00</td>\n",
       "      <td>1.67</td>\n",
       "      <td>3.33</td>\n",
       "      <td>6.67</td>\n",
       "      <td>5.33</td>\n",
       "      <td>8.00</td>\n",
       "      <td>6.00</td>\n",
       "      <td>5.00</td>\n",
       "      <td>6.33</td>\n",
       "    </tr>\n",
       "    <tr>\n",
       "      <th>Boeing</th>\n",
       "      <td>3.20</td>\n",
       "      <td>2.60</td>\n",
       "      <td>0.00</td>\n",
       "      <td>6.20</td>\n",
       "      <td>4.60</td>\n",
       "      <td>8.00</td>\n",
       "      <td>5.60</td>\n",
       "      <td>2.60</td>\n",
       "      <td>5.80</td>\n",
       "      <td>6.40</td>\n",
       "    </tr>\n",
       "    <tr>\n",
       "      <th>Delta Dental</th>\n",
       "      <td>1.67</td>\n",
       "      <td>7.33</td>\n",
       "      <td>6.00</td>\n",
       "      <td>0.00</td>\n",
       "      <td>6.67</td>\n",
       "      <td>5.33</td>\n",
       "      <td>7.33</td>\n",
       "      <td>4.00</td>\n",
       "      <td>3.00</td>\n",
       "      <td>3.67</td>\n",
       "    </tr>\n",
       "    <tr>\n",
       "      <th>Ford</th>\n",
       "      <td>2.50</td>\n",
       "      <td>2.50</td>\n",
       "      <td>2.83</td>\n",
       "      <td>5.67</td>\n",
       "      <td>0.00</td>\n",
       "      <td>7.67</td>\n",
       "      <td>6.17</td>\n",
       "      <td>3.83</td>\n",
       "      <td>6.83</td>\n",
       "      <td>7.00</td>\n",
       "    </tr>\n",
       "    <tr>\n",
       "      <th>Hope Village</th>\n",
       "      <td>6.20</td>\n",
       "      <td>5.40</td>\n",
       "      <td>7.20</td>\n",
       "      <td>6.40</td>\n",
       "      <td>7.20</td>\n",
       "      <td>0.00</td>\n",
       "      <td>4.60</td>\n",
       "      <td>4.40</td>\n",
       "      <td>2.00</td>\n",
       "      <td>1.60</td>\n",
       "    </tr>\n",
       "    <tr>\n",
       "      <th>Kellogg's</th>\n",
       "      <td>4.33</td>\n",
       "      <td>5.67</td>\n",
       "      <td>4.33</td>\n",
       "      <td>8.33</td>\n",
       "      <td>7.00</td>\n",
       "      <td>5.33</td>\n",
       "      <td>0.00</td>\n",
       "      <td>4.67</td>\n",
       "      <td>4.00</td>\n",
       "      <td>1.33</td>\n",
       "    </tr>\n",
       "    <tr>\n",
       "      <th>Neogen</th>\n",
       "      <td>3.67</td>\n",
       "      <td>4.00</td>\n",
       "      <td>3.33</td>\n",
       "      <td>7.00</td>\n",
       "      <td>5.67</td>\n",
       "      <td>5.33</td>\n",
       "      <td>7.33</td>\n",
       "      <td>0.00</td>\n",
       "      <td>3.67</td>\n",
       "      <td>5.00</td>\n",
       "    </tr>\n",
       "    <tr>\n",
       "      <th>Old Nation</th>\n",
       "      <td>6.00</td>\n",
       "      <td>5.25</td>\n",
       "      <td>7.50</td>\n",
       "      <td>6.25</td>\n",
       "      <td>6.25</td>\n",
       "      <td>1.25</td>\n",
       "      <td>7.50</td>\n",
       "      <td>3.25</td>\n",
       "      <td>0.00</td>\n",
       "      <td>1.75</td>\n",
       "    </tr>\n",
       "    <tr>\n",
       "      <th>Qside</th>\n",
       "      <td>3.50</td>\n",
       "      <td>3.50</td>\n",
       "      <td>6.00</td>\n",
       "      <td>7.00</td>\n",
       "      <td>8.00</td>\n",
       "      <td>1.50</td>\n",
       "      <td>6.00</td>\n",
       "      <td>8.00</td>\n",
       "      <td>1.50</td>\n",
       "      <td>0.00</td>\n",
       "    </tr>\n",
       "  </tbody>\n",
       "</table>\n",
       "</div>"
      ],
      "text/plain": [
       "              ARFL  Argonne  Boeing  Delta Dental  Ford  Hope Village  \\\n",
       "ARFL          0.00     3.00    3.00          5.20  4.00          6.20   \n",
       "Argonne       2.67     0.00    1.67          3.33  6.67          5.33   \n",
       "Boeing        3.20     2.60    0.00          6.20  4.60          8.00   \n",
       "Delta Dental  1.67     7.33    6.00          0.00  6.67          5.33   \n",
       "Ford          2.50     2.50    2.83          5.67  0.00          7.67   \n",
       "Hope Village  6.20     5.40    7.20          6.40  7.20          0.00   \n",
       "Kellogg's     4.33     5.67    4.33          8.33  7.00          5.33   \n",
       "Neogen        3.67     4.00    3.33          7.00  5.67          5.33   \n",
       "Old Nation    6.00     5.25    7.50          6.25  6.25          1.25   \n",
       "Qside         3.50     3.50    6.00          7.00  8.00          1.50   \n",
       "\n",
       "              Kellogg's  Neogen  Old Nation  Qside  \n",
       "ARFL               6.60    4.00        5.60   7.40  \n",
       "Argonne            8.00    6.00        5.00   6.33  \n",
       "Boeing             5.60    2.60        5.80   6.40  \n",
       "Delta Dental       7.33    4.00        3.00   3.67  \n",
       "Ford               6.17    3.83        6.83   7.00  \n",
       "Hope Village       4.60    4.40        2.00   1.60  \n",
       "Kellogg's          0.00    4.67        4.00   1.33  \n",
       "Neogen             7.33    0.00        3.67   5.00  \n",
       "Old Nation         7.50    3.25        0.00   1.75  \n",
       "Qside              6.00    8.00        1.50   0.00  "
      ]
     },
     "execution_count": 4,
     "metadata": {},
     "output_type": "execute_result"
    }
   ],
   "source": [
    "group_name = list(df.columns)\n",
    "matrix = pd.DataFrame(np.array([round(group_dic[i]/group_mebers[i],2) for i in group_name])) \n",
    "# use the total distance and number of members to get average\n",
    "matrix.columns = group_name\n",
    "matrix.index = group_name\n",
    "matrix"
   ]
  },
  {
   "cell_type": "code",
   "execution_count": 5,
   "id": "0c0ad7d2",
   "metadata": {},
   "outputs": [],
   "source": [
    "hope_village = group_dic['Hope Village']/group_mebers['Hope Village']\n",
    "hope_village = hope_village.drop(['Hope Village'])"
   ]
  },
  {
   "cell_type": "markdown",
   "id": "0278dd21",
   "metadata": {},
   "source": [
    "## Data Visualization\n",
    "\n",
    "This section make some graphs visualizing your results.  A distance matrix and/or network graph may be cool.  Think though the best way to show what you learned."
   ]
  },
  {
   "cell_type": "code",
   "execution_count": 6,
   "id": "476f8eff",
   "metadata": {},
   "outputs": [
    {
     "data": {
      "text/plain": [
       "Text(0.5, 1.0, 'Heatmap for CMSE495 Project Groups Average Distance Matrix')"
      ]
     },
     "execution_count": 6,
     "metadata": {},
     "output_type": "execute_result"
    },
    {
     "data": {
      "image/png": "[encoded data removed]",
      "text/plain": [
       "<Figure size 864x720 with 2 Axes>"
      ]
     },
     "metadata": {
      "needs_background": "light"
     },
     "output_type": "display_data"
    }
   ],
   "source": [
    "import matplotlib.pyplot as plt\n",
    "import seaborn as sns\n",
    "plt.figure(figsize=(12,10))\n",
    "sns.heatmap(matrix)\n",
    "plt.title('Heatmap for CMSE495 Project Groups Average Distance Matrix')"
   ]
  },
  {
   "cell_type": "code",
   "execution_count": 7,
   "id": "5055befa",
   "metadata": {},
   "outputs": [
    {
     "data": {
      "image/png": "[encoded data removed]",
      "text/plain": [
       "<Figure size 864x720 with 1 Axes>"
      ]
     },
     "metadata": {
      "needs_background": "light"
     },
     "output_type": "display_data"
    }
   ],
   "source": [
    "hope_village = hope_village.sort_values()\n",
    "ax = hope_village.plot(kind='bar', figsize = (12,10))\n",
    "for p in ax.patches:\n",
    "    ax.annotate(str(p.get_height()), (p.get_x() * 1.005, p.get_height() * 1.005))\n",
    "    \n",
    "title_size = 14\n",
    "axes_size = 12\n",
    "label_size = 10\n",
    "plt.title('Average distance from Hope Village to other groups')\n",
    "plt.xlabel('Groups')\n",
    "plt.ylabel('Average distance')\n",
    "for item in ([ax.title, ax.xaxis.label, ax.yaxis.label]):\n",
    "    item.set_fontsize(20)\n",
    "for label in (ax.get_xticklabels()+ax.get_yticklabels()):\n",
    "    label.set_fontsize(14)"
   ]
  },
  {
   "cell_type": "markdown",
   "id": "b9484c6c",
   "metadata": {},
   "source": [
    "## Conclusion\n",
    "\n",
    "After analyzing the data we can conclude that QSIDE and Old Nation have the most similar projects to our group (Hope Village) with average similarity scores of 1.6 and 2.0 respectively before a large drop off to a score of 4.4 with Neogen. We can also determine that the projects least similar to Hope Village would be Boeing and Ford, both possessing an average score of 7.2. An observation that can be made from these conclusions is that all three of these projects are very open-ended in regards to what analysis should be performed and with what data sources. In other words, these three projects are the most ambiguous in regards to what questions should be asked and pursued. Additionally, these three projects have a “human” element to them in that one or many of their related data sources would involve demographical data. Furthermore, the questions handed to these teams are all concerned with a specific region. Conversely, projects like Boeing and Ford set out to answer questions related to physical, inanimate objects. Questions like these are better-defined, but require rigorous analysis involving ML models and the like. For QSIDE, Old Nation, and Hope Village, their projects require less technical analysis where the rigor of the project is front-loaded on finding and cleaning data sources to support open-ended questions."
   ]
  }
 ],
 "metadata": {
  "kernelspec": {
   "display_name": "Python 3",
   "language": "python",
   "name": "python3"
  },
  "language_info": {
   "codemirror_mode": {
    "name": "ipython",
    "version": 3
   },
   "file_extension": ".py",
   "mimetype": "text/x-python",
   "name": "python",
   "nbconvert_exporter": "python",
   "pygments_lexer": "ipython3",
   "version": "3.8.8"
  }
 },
 "nbformat": 4,
 "nbformat_minor": 5
}
